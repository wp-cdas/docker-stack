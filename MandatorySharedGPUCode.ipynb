{
 "cells": [
  {
   "cell_type": "code",
   "execution_count": null,
   "metadata": {},
   "outputs": [],
   "source": [
    "#This block of code is here to allow the GPU to be shared between users when using Tensorflow/Keras.  \n",
    "#Please include it in each of your notebooks in the cell after you call your libraries.\n",
    "import tensorflow as tf\n",
    "GPU = tf.config.experimental.list_physical_devices('GPU')",
    "tf.config.experimental.set_memory_growth(GPU[0], True)"
   ]
  }
 ],
 "metadata": {
  "kernelspec": {
   "display_name": "Python 3",
   "language": "python",
   "name": "python3"
  },
  "language_info": {
   "codemirror_mode": {
    "name": "ipython",
    "version": 3
   },
   "file_extension": ".py",
   "mimetype": "text/x-python",
   "name": "python",
   "nbconvert_exporter": "python",
   "pygments_lexer": "ipython3",
   "version": "3.6.8"
  }
 },
 "nbformat": 4,
 "nbformat_minor": 2
}

